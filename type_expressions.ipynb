{
 "cells": [
  {
   "cell_type": "markdown",
   "id": "6f3d0bb7-c8aa-40a3-b6be-cc8e3a02f75d",
   "metadata": {},
   "source": [
    "## Disjoint Union"
   ]
  },
  {
   "cell_type": "code",
   "execution_count": 50,
   "id": "7c3649f1-364f-46d7-9876-ff78f7c9afa4",
   "metadata": {},
   "outputs": [
    {
     "name": "stdout",
     "output_type": "stream",
     "text": [
      "validate_invoice() => ValidInvoice(\"Invoice\")\n",
      "224.254.0.0\n"
     ]
    }
   ],
   "source": [
    "use std::net::{IpAddr, Ipv4Addr, Ipv6Addr};\n",
    "\n",
    "#[derive(Debug)]\n",
    "struct UnvalidatedInvoice(String);\n",
    "\n",
    "#[derive(Debug)]\n",
    "struct ValidInvoice(String);\n",
    "\n",
    "// Disjoint Union type\n",
    "enum Invoice {\n",
    "    Unvalidated(UnvalidatedInvoice),\n",
    "    Valid(ValidInvoice)\n",
    "}\n",
    "\n",
    "let invoice = Invoice::Unvalidated(UnvalidatedInvoice(\"Invoice\".to_string()));\n",
    "\n",
    "// Usage specific type of the union\n",
    "fn validate_invoice(i: UnvalidatedInvoice) -> ValidInvoice {\n",
    "    let UnvalidatedInvoice(s) = i;\n",
    "    ValidInvoice(s)\n",
    "}\n",
    "\n",
    "let invoice = match invoice {\n",
    "    Invoice::Unvalidated(i) => validate_invoice(i),\n",
    "    Invoice::Valid(i) => unimplemented!(),\n",
    "};\n",
    "\n",
    "println!(\"validate_invoice() => {:?}\", invoice);\n",
    "\n",
    "// example in std\n",
    "let ip_addr = IpAddr::V4(Ipv4Addr::new(224, 254, 0, 0));\n",
    "\n",
    "let _ = match ip_addr {\n",
    "    IpAddr::V4(i) => println!(\"{:?}\", i),\n",
    "    IpAddr::V6(i) => unimplemented!(),\n",
    "};"
   ]
  }
 ],
 "metadata": {
  "kernelspec": {
   "display_name": "Rust",
   "language": "rust",
   "name": "rust"
  },
  "language_info": {
   "codemirror_mode": "rust",
   "file_extension": ".rs",
   "mimetype": "text/rust",
   "name": "Rust",
   "pygment_lexer": "rust",
   "version": ""
  }
 },
 "nbformat": 4,
 "nbformat_minor": 5
}
