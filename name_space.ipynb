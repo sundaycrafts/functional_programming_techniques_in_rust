{
 "cells": [
  {
   "cell_type": "markdown",
   "id": "e7c19d27-160e-4b9b-bfa6-e4632bda665f",
   "metadata": {},
   "source": [
    "## Define name space\n",
    "\n",
    "In FP, you don't think procedure/value as **associated within a (static) entity** but think as **grouped by a (dynamic) business process**."
   ]
  },
  {
   "cell_type": "code",
   "execution_count": 18,
   "id": "3e86e216-595a-48e9-be89-0e5941335972",
   "metadata": {},
   "outputs": [],
   "source": [
    "use std::error::Error;\n",
    "\n",
    "// Method 1: Module (eq. separating file)\n",
    "mod payment {\n",
    "    mod error {\n",
    "      struct InsufficientFundsError {}\n",
    "      struct TransactionFailedError {}        \n",
    "    }\n",
    "\n",
    "    fn start_transaction() {/* ... */}\n",
    "}\n",
    "\n",
    "// Method 2 (OOP way): method / field\n",
    "struct Payment {\n",
    "    errors: Vec<Box<dyn Error>>\n",
    "}\n",
    "\n",
    "impl Payment {\n",
    "    fn start_transaction() {/* ... */}\n",
    "}\n",
    "\n",
    "// Method 3 (Limited functionality & No type detection): Enum\n",
    "enum PaymentNS {\n",
    "    Payment {\n",
    "        errors: Vec<Box<dyn Error>>\n",
    "    },\n",
    "    UnCheckedPayment {}\n",
    "}\n",
    "\n",
    "impl PaymentNS {\n",
    "    fn start_transaction() -> PaymentNS // you can't declare a specific type\n",
    "        { unimplemented!() }\n",
    "}"
   ]
  }
 ],
 "metadata": {
  "kernelspec": {
   "display_name": "Rust",
   "language": "rust",
   "name": "rust"
  },
  "language_info": {
   "codemirror_mode": "rust",
   "file_extension": ".rs",
   "mimetype": "text/rust",
   "name": "Rust",
   "pygment_lexer": "rust",
   "version": ""
  }
 },
 "nbformat": 4,
 "nbformat_minor": 5
}
